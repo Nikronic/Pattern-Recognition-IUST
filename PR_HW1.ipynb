{
 "cells": [
  {
   "cell_type": "markdown",
   "metadata": {
    "colab_type": "text",
    "id": "In7EXJLdRRhf"
   },
   "source": [
    "# Pattern Recognition - HW1 - Mohammad Doosti Lakhani - 98722278 \n",
    "In this notebook, I have implemented the first assignment which contains following sections in brief:\n",
    "0. Making Things Ready to Go!\n",
    "1. Interacting With Dataset (via Pandas)\n",
    "2. Preprocessing\n",
    "    1. Cleansing via Regex\n",
    "    2. Stemming (via NLTK)\n",
    "    3. Lemmatiation (via NLTK)\n",
    "    4. Stopwords (via NLTK)\n",
    "3. Feature Extraction\n",
    "    1. Bag of Words\n",
    "    2. BERT Embeddings (via [Sentence-Transoformers](https://github.com/UKPLab/sentence-transformers))\n",
    "    3. TF-IDF (via sklearn)\n",
    "    4. Word2Vec\n",
    "4. Model Training (via sklearn)\n",
    "    1. Naive Bayes\n",
    "        1. Linear\n",
    "        2. Polynomial\n",
    "        3. Gaussian\n",
    "    2. SVM\n",
    "        1. SVC\n",
    "        2. Linear SVC\n",
    "    3. Decision Tree\n",
    "    4. Random Forest\n",
    "5. Metrics\n",
    "    1. Accuracy\n",
    "    2. Precision\n",
    "    3. Recall\n",
    "    4. F1\n",
    "    5. ROC_AUC (via sklearn)\n",
    "\n",
    "Note: Each section will be discussed adequately in its particular part.\n",
    "Note: Functions documentations has almost all needed info about their job intuitively."
   ]
  },
  {
   "cell_type": "markdown",
   "metadata": {
    "colab_type": "text",
    "id": "xjSwuLtBWcin"
   },
   "source": [
    "## 0 Making Things Ready to Go\n",
    "This step contains following steps:\n",
    "1. Installing necessary packages (Note default packages on Colab has not been considered)\n",
    "2. Downloading and unziping dataset\n",
    "3. Downloading necessary files for NLTK"
   ]
  },
  {
   "cell_type": "markdown",
   "metadata": {
    "colab_type": "text",
    "id": "dlcm-xULW5Jl"
   },
   "source": [
    "### 0.1 Installing necessary packages"
   ]
  },
  {
   "cell_type": "code",
   "execution_count": null,
   "metadata": {
    "colab": {},
    "colab_type": "code",
    "id": "jCaSG80-Uvp4"
   },
   "outputs": [],
   "source": [
    "!pip install -U sentence-transformers\n",
    "!wget http://ai.stanford.edu/~amaas/data/sentiment/aclImdb_v1.tar.gz"
   ]
  },
  {
   "cell_type": "markdown",
   "metadata": {
    "colab_type": "text",
    "id": "oUCE5rAOW8s-"
   },
   "source": [
    "### 0.2 Downloading and unziping dataset"
   ]
  },
  {
   "cell_type": "code",
   "execution_count": null,
   "metadata": {
    "colab": {},
    "colab_type": "code",
    "id": "V28vMR-eTrVr"
   },
   "outputs": [],
   "source": [
    "!tar -xvzf aclImdb_v1.tar.gz"
   ]
  },
  {
   "cell_type": "markdown",
   "metadata": {
    "colab_type": "text",
    "id": "UEr5t2N0XAip"
   },
   "source": [
    "### 0.1 Downloading necessary files for NLTK"
   ]
  },
  {
   "cell_type": "code",
   "execution_count": 17,
   "metadata": {
    "colab": {
     "base_uri": "https://localhost:8080/",
     "height": 85
    },
    "colab_type": "code",
    "id": "il1geQLoXEyI",
    "outputId": "fb1d6c20-25f8-4e5d-ad89-cc275918560f"
   },
   "outputs": [
    {
     "name": "stdout",
     "output_type": "stream",
     "text": [
      "[nltk_data] Downloading package stopwords to /root/nltk_data...\n",
      "[nltk_data]   Package stopwords is already up-to-date!\n",
      "[nltk_data] Downloading package wordnet to /root/nltk_data...\n",
      "[nltk_data]   Package wordnet is already up-to-date!\n"
     ]
    }
   ],
   "source": [
    "import nltk\n",
    "nltk.download('stopwords')\n",
    "nltk.download('wordnet')\n",
    "\n",
    "!TCMALLOC_LARGE_ALLOC_REPORT_THRESHOLD=20000000000  # use this line to prevent colab fram crashing because of low memory"
   ]
  },
  {
   "cell_type": "markdown",
   "metadata": {
    "colab_type": "text",
    "id": "tmu5VT3vOTeF"
   },
   "source": [
    "## 1 Interacting With Dataset\n",
    "This step consists of following sections:\n",
    "1. Reading a single review files (testing purposes)\n",
    "2. Reading Entire Train or Test set and their labels\n",
    "3. Reading train data\n",
    "4. Reading test data"
   ]
  },
  {
   "cell_type": "code",
   "execution_count": null,
   "metadata": {
    "colab": {},
    "colab_type": "code",
    "id": "neL8UY7zYKUR"
   },
   "outputs": [],
   "source": [
    "import os\n",
    "import glob\n",
    "\n",
    "from typing import List\n",
    "\n",
    "import pandas as pd\n",
    "import numpy as np"
   ]
  },
  {
   "cell_type": "markdown",
   "metadata": {
    "colab_type": "text",
    "id": "nTcjnb85X0Qo"
   },
   "source": [
    "### 1.1 Reading a single file\n",
    "`read_single_file(path: str) -> pd.DataFrame` method will do the job for us. And it returns a pandas Dataframe with only one row that contains the review text in it."
   ]
  },
  {
   "cell_type": "code",
   "execution_count": null,
   "metadata": {
    "colab": {},
    "colab_type": "code",
    "id": "gJ7114sBYM-h"
   },
   "outputs": [],
   "source": [
    "def read_single_file(path: str) -> pd.DataFrame:\n",
    "    \"\"\"\n",
    "    Reads only a file containing the review\n",
    "\n",
    "    :param path: path to the file\n",
    "    :return: a pandas `DataFrame`\n",
    "    \"\"\"\n",
    "    with open(path) as file:\n",
    "        review = [file.read()]\n",
    "    return pd.DataFrame(review, columns=['text'])"
   ]
  },
  {
   "cell_type": "markdown",
   "metadata": {
    "colab_type": "text",
    "id": "PoqRC2ijYPMm"
   },
   "source": [
    "### 1.2 Reading entire dataset\n",
    "`def read_all_files(path: str, shuffle: bool = True) -> pd.DataFrame` will do two things for us:\n",
    "1. Reading data: Reads all files in `pos` and `neg` folders of given `train` or `test` folder and returns a dataframe that columns contains `text` and `labels` of reviews. \n",
    "2. Shuffling it: Shuffling data is necessary to make sure model are not learning the spatial pattern instead of features' patterns."
   ]
  },
  {
   "cell_type": "code",
   "execution_count": null,
   "metadata": {
    "colab": {},
    "colab_type": "code",
    "id": "AEFSBpObOLZx"
   },
   "outputs": [],
   "source": [
    "def read_all_files(path: str, shuffle: bool = True) -> pd.DataFrame:\n",
    "    \"\"\"\n",
    "    Reads all files in the the given folder `path`\n",
    "\n",
    "    :param path: A str \"path/\" to the folder containing all files (\"data/train\") sub folder of classes will be handled\n",
    "    :param shuffle: shuffle the data order or not\n",
    "    :return: a pandas `DataFrame['text', 'label']`\n",
    "    \"\"\"\n",
    "\n",
    "    pos_reviews = []\n",
    "    neg_reviews = []\n",
    "\n",
    "    root_path = path\n",
    "    pos_path = root_path + '/pos/*.txt'\n",
    "    files = glob.glob(pos_path)\n",
    "\n",
    "    if len(files) == 0:\n",
    "        raise Exception('The path:\"{}\" contains no file to be read.'.format(path))\n",
    "\n",
    "    for name in files:\n",
    "        with open(name) as f:\n",
    "            pos_reviews.append(f.read())\n",
    "    neg_path = root_path + '/neg/*.txt'\n",
    "    files = glob.glob(neg_path)\n",
    "    for name in files:\n",
    "        with open(name) as f:\n",
    "            neg_reviews.append(f.read())\n",
    "\n",
    "    labels = np.zeros(len(pos_reviews + neg_reviews), dtype=np.int)\n",
    "    labels[0:len(pos_reviews)] = 1\n",
    "\n",
    "    pos_reviews.extend(neg_reviews)\n",
    "    del neg_reviews\n",
    "\n",
    "    data_frame = pd.DataFrame(pos_reviews, columns=['text'])\n",
    "    data_frame['label'] = labels\n",
    "\n",
    "    if shuffle:\n",
    "        data_frame = data_frame.sample(frac=1).reset_index(drop=True)  # note the operation is in-place\n",
    "        return data_frame\n",
    "    return data_frame"
   ]
  },
  {
   "cell_type": "markdown",
   "metadata": {
    "colab_type": "text",
    "id": "jlkRBjo2ZeDe"
   },
   "source": [
    "### 1.3 Reading train data"
   ]
  },
  {
   "cell_type": "code",
   "execution_count": 28,
   "metadata": {
    "colab": {
     "base_uri": "https://localhost:8080/",
     "height": 204
    },
    "colab_type": "code",
    "id": "qcAJchCOPawW",
    "outputId": "70f94951-83c9-4a4c-955f-8d80f1047b7f"
   },
   "outputs": [
    {
     "data": {
      "text/html": [
       "<div>\n",
       "<style scoped>\n",
       "    .dataframe tbody tr th:only-of-type {\n",
       "        vertical-align: middle;\n",
       "    }\n",
       "\n",
       "    .dataframe tbody tr th {\n",
       "        vertical-align: top;\n",
       "    }\n",
       "\n",
       "    .dataframe thead th {\n",
       "        text-align: right;\n",
       "    }\n",
       "</style>\n",
       "<table border=\"1\" class=\"dataframe\">\n",
       "  <thead>\n",
       "    <tr style=\"text-align: right;\">\n",
       "      <th></th>\n",
       "      <th>text</th>\n",
       "      <th>label</th>\n",
       "    </tr>\n",
       "  </thead>\n",
       "  <tbody>\n",
       "    <tr>\n",
       "      <th>0</th>\n",
       "      <td>I had fun watching this movie, mainly due to S...</td>\n",
       "      <td>1</td>\n",
       "    </tr>\n",
       "    <tr>\n",
       "      <th>1</th>\n",
       "      <td>I got in to this excellent program in about se...</td>\n",
       "      <td>1</td>\n",
       "    </tr>\n",
       "    <tr>\n",
       "      <th>2</th>\n",
       "      <td>This is a film that makes you say 2 things... ...</td>\n",
       "      <td>0</td>\n",
       "    </tr>\n",
       "    <tr>\n",
       "      <th>3</th>\n",
       "      <td>MULHOLLAND DRIVE made me the definitive fan of...</td>\n",
       "      <td>1</td>\n",
       "    </tr>\n",
       "    <tr>\n",
       "      <th>4</th>\n",
       "      <td>Recently, I had opportunity to view a working ...</td>\n",
       "      <td>0</td>\n",
       "    </tr>\n",
       "  </tbody>\n",
       "</table>\n",
       "</div>"
      ],
      "text/plain": [
       "                                                text  label\n",
       "0  I had fun watching this movie, mainly due to S...      1\n",
       "1  I got in to this excellent program in about se...      1\n",
       "2  This is a film that makes you say 2 things... ...      0\n",
       "3  MULHOLLAND DRIVE made me the definitive fan of...      1\n",
       "4  Recently, I had opportunity to view a working ...      0"
      ]
     },
     "execution_count": 28,
     "metadata": {
      "tags": []
     },
     "output_type": "execute_result"
    }
   ],
   "source": [
    "root = 'aclImdb/train'\n",
    "df = read_all_files(root, True)\n",
    "df.head(5)"
   ]
  },
  {
   "cell_type": "markdown",
   "metadata": {
    "colab_type": "text",
    "id": "wW1eGdnwVY0p"
   },
   "source": [
    "Here is a sample of train set. First column corresponds to the text of a review and the second column contains its label which 1 is positive and 0 is negative."
   ]
  },
  {
   "cell_type": "markdown",
   "metadata": {
    "colab_type": "text",
    "id": "Fc-f6mUMxn9Y"
   },
   "source": [
    "### 1.4 Reading test data"
   ]
  },
  {
   "cell_type": "code",
   "execution_count": 19,
   "metadata": {
    "colab": {
     "base_uri": "https://localhost:8080/",
     "height": 204
    },
    "colab_type": "code",
    "id": "ePTkbBujxmFN",
    "outputId": "28e99417-117c-4d66-ac47-bde7878b4532"
   },
   "outputs": [
    {
     "data": {
      "text/html": [
       "<div>\n",
       "<style scoped>\n",
       "    .dataframe tbody tr th:only-of-type {\n",
       "        vertical-align: middle;\n",
       "    }\n",
       "\n",
       "    .dataframe tbody tr th {\n",
       "        vertical-align: top;\n",
       "    }\n",
       "\n",
       "    .dataframe thead th {\n",
       "        text-align: right;\n",
       "    }\n",
       "</style>\n",
       "<table border=\"1\" class=\"dataframe\">\n",
       "  <thead>\n",
       "    <tr style=\"text-align: right;\">\n",
       "      <th></th>\n",
       "      <th>text</th>\n",
       "      <th>label</th>\n",
       "    </tr>\n",
       "  </thead>\n",
       "  <tbody>\n",
       "    <tr>\n",
       "      <th>0</th>\n",
       "      <td>A variation of the same plot line was used in ...</td>\n",
       "      <td>1</td>\n",
       "    </tr>\n",
       "    <tr>\n",
       "      <th>1</th>\n",
       "      <td>I can name only a few movies that I have seen ...</td>\n",
       "      <td>0</td>\n",
       "    </tr>\n",
       "    <tr>\n",
       "      <th>2</th>\n",
       "      <td>Soderbergh is a fabulous director, but nothing...</td>\n",
       "      <td>1</td>\n",
       "    </tr>\n",
       "    <tr>\n",
       "      <th>3</th>\n",
       "      <td>Back in the cold and creepy early 90's,a show ...</td>\n",
       "      <td>0</td>\n",
       "    </tr>\n",
       "    <tr>\n",
       "      <th>4</th>\n",
       "      <td>Each show is excellent. Finally, a show about ...</td>\n",
       "      <td>1</td>\n",
       "    </tr>\n",
       "  </tbody>\n",
       "</table>\n",
       "</div>"
      ],
      "text/plain": [
       "                                                text  label\n",
       "0  A variation of the same plot line was used in ...      1\n",
       "1  I can name only a few movies that I have seen ...      0\n",
       "2  Soderbergh is a fabulous director, but nothing...      1\n",
       "3  Back in the cold and creepy early 90's,a show ...      0\n",
       "4  Each show is excellent. Finally, a show about ...      1"
      ]
     },
     "execution_count": 19,
     "metadata": {
      "tags": []
     },
     "output_type": "execute_result"
    }
   ],
   "source": [
    "root = 'aclImdb/test'\n",
    "df = read_all_files(root, True)\n",
    "df.head(5)"
   ]
  },
  {
   "cell_type": "markdown",
   "metadata": {
    "colab_type": "text",
    "id": "5I-rtcbBOaOM"
   },
   "source": [
    "## 2 Preprocessing\n",
    "This step means making our data ready and cleaned to be able to be fed to models.\n",
    "The data we are using is the reviews obtained using web crawler from IMDB movie reviews webpage, so the content has noises such as html tags. But also we do not need all forms of words or all punctuation marks. \n",
    "\n",
    "After this cleansing procedure, we need to represent our words/sentences using numbers (numbers are needed for training procedure) and between possible methods we are using BOW, BERT, TF-IDF and Word2Vec (each will be explained in their own section).\n",
    "\n",
    "Following steps, take care of these issues:\n",
    "1. Bag of words\n",
    "    1. Generate Vocabulary\n",
    "    2. Filter Vocabulary\n",
    "    3. Tokenizer\n",
    "    4. Build BOW\n",
    "2. BERT\n",
    "    1. Constants\n",
    "    2. Tokenizer\n",
    "3. TF-IDF\n",
    "\n",
    "4. Get BOW, BERT, TF-IDF\n",
    "    1. BOW\n",
    "    2. BERT\n",
    "    3. TF-IDF"
   ]
  },
  {
   "cell_type": "code",
   "execution_count": null,
   "metadata": {
    "colab": {},
    "colab_type": "code",
    "id": "dJzthQhRbDtG"
   },
   "outputs": [],
   "source": [
    "import pandas as pd\n",
    "import numpy as np\n",
    "import operator\n",
    "\n",
    "from typing import Dict, List, Tuple\n",
    "\n",
    "import re\n",
    "import string\n",
    "\n",
    "from nltk.corpus import stopwords\n",
    "from nltk.stem import PorterStemmer\n",
    "from nltk.stem import WordNetLemmatizer\n",
    "\n",
    "from sentence_transformers import SentenceTransformer\n",
    "\n",
    "from sklearn.feature_extraction.text import TfidfVectorizer"
   ]
  },
  {
   "cell_type": "markdown",
   "metadata": {
    "colab_type": "text",
    "id": "XjwsEEcebegh"
   },
   "source": [
    "### 2.1 Bag of Words\n",
    "Let's talk about BOW. The whole idea about BOW is so simple. We extract all words we have in our universe and count them (in our case all reviews), then we go back and check each review that each word how many times has been occured in that particular review. Note that you can use binary form which 1 is when word exists in that review and 0 for non-existant word.\n",
    "\n",
    "After doing this for each review, we have a vector of binary/integer values with size of our whole vocabulary database(our universe words.)"
   ]
  },
  {
   "cell_type": "markdown",
   "metadata": {
    "colab_type": "text",
    "id": "eJbm5A-AbpFP"
   },
   "source": [
    "#### 2.1.1 Generate Vocabulary\n",
    "We need all the vocabs in all reviews to build a equal-length rows for all reviews. We also save their occurences so we can filter out those are too frequent or rare.\n",
    "\n"
   ]
  },
  {
   "cell_type": "code",
   "execution_count": null,
   "metadata": {
    "colab": {},
    "colab_type": "code",
    "id": "j2fsHiJQbfIW"
   },
   "outputs": [],
   "source": [
    "def generate_vocabulary(df: pd.DataFrame, save: bool = False, path: str = None,\n",
    "                        names: Tuple[str] = ('text', 'label')) -> Dict:\n",
    "    \"\"\"\n",
    "    Gets a pandas `DataFrame` and extracts all word occurrence in the entries of the `df` and build a dictionary\n",
    "    that each word's number of repetition in whole texts.\n",
    "\n",
    "    :param df: a pandas DataFrame with a column called 'text' to be analyzed.\n",
    "    :param save: Whether or not saving dictionary as a file in disc\n",
    "    :param path: Only applicable if `save` is True. The path which contains name of file to save vocab.\n",
    "    :param names: A tuple of strings containing key values of \"feature\" and \"label\" in the dataframes\n",
    "    :return: A dictionary of words and their counts\n",
    "    \"\"\"\n",
    "    vocabulary = {}\n",
    "    for reviews in df[names[0]]:\n",
    "        for word in reviews:\n",
    "            if word not in vocabulary.keys():\n",
    "                vocabulary[word] = 1\n",
    "            else:\n",
    "                vocabulary[word] += 1\n",
    "    if save:\n",
    "        with open(path, 'w+') as file:\n",
    "            for k, v in zip(vocabulary.keys(), vocabulary.values()):\n",
    "                file.write(str(k) + ' ' + str(v) + '\\n')\n",
    "    return vocabulary\n",
    "\n",
    "\n",
    "def read_vocabulary(path: str) -> Dict:\n",
    "    \"\"\"\n",
    "    Reads saved vocabulary at the path as a dictionary\n",
    "\n",
    "    :param path: path to file of vocabs\n",
    "    :return: A dictionary of words and their frequencies\n",
    "    \"\"\"\n",
    "\n",
    "    vocab = {}\n",
    "    with open(path) as file:\n",
    "        line = file.readline()\n",
    "        while line:\n",
    "            key, value = line.split(' ')\n",
    "            vocab[key] = int(value)\n",
    "            line = file.readline()\n",
    "    return vocab"
   ]
  },
  {
   "cell_type": "markdown",
   "metadata": {
    "colab_type": "text",
    "id": "hOjXX4d4dCMj"
   },
   "source": [
    "#### 2.1.2 Filter Vocabulary\n",
    "Filtering vocabulary enable us to omit those which are outliers like rare ones or the most commons. Between all reviews, the word 'film' may has occured a lot. Now the question is that is this word and its huge count informative for us? No! because the dataset is about movie revies and for sure word 'movie` has no information.\n",
    "\n",
    "This logic can be used for rarefied words too.\n"
   ]
  },
  {
   "cell_type": "code",
   "execution_count": null,
   "metadata": {
    "colab": {},
    "colab_type": "code",
    "id": "7Afu5koldCzV"
   },
   "outputs": [],
   "source": [
    "def filter_vocabulary(vocab: Dict, threshold: float, bidirectional: bool):\n",
    "    \"\"\"\n",
    "    Applies a filter regarding given arguments and return a subset of given vocab dictionary.\n",
    "\n",
    "    Methods:\n",
    "    1. threshold = -1: no cutting\n",
    "    2. 0 < threshold <1 : cuts percentage=`threshold` of data\n",
    "    3. 2 < threshold < len(vocab): cuts `threshold` number of words\n",
    "\n",
    "    Note: in all cases output is sorted dictionary.\n",
    "\n",
    "    :param vocab: A `Dict` of vocabularies where keys are words and values are int of repetition.\n",
    "    :param threshold: a float or int number in specified format.\n",
    "    :param bidirectional: Cutting process will be applied on most frequent and less frequent if `True`, else\n",
    "            only less frequent.\n",
    "    :return: A sorted `Dict` based on the values\n",
    "    \"\"\"\n",
    "    # convert percentage to count\n",
    "    if threshold <= 1:\n",
    "        threshold = int(threshold) * 100\n",
    "        threshold *= len(vocab)\n",
    "\n",
    "    # sort vocab\n",
    "    sorted_vocab = {k: v for k, v in sorted(vocab.items(), key=operator.itemgetter(1))}\n",
    "\n",
    "    if threshold < 0:\n",
    "        return sorted_vocab\n",
    "\n",
    "    # filter\n",
    "    if bidirectional:\n",
    "        sorted_vocab = dict(list(sorted_vocab.items())[threshold:-threshold])\n",
    "        return sorted_vocab\n",
    "    else:\n",
    "        sorted_vocab = dict(list(sorted_vocab.items())[threshold:])\n",
    "        return sorted_vocab\n"
   ]
  },
  {
   "cell_type": "markdown",
   "metadata": {
    "colab_type": "text",
    "id": "in4ZPIWmdcBX"
   },
   "source": [
    "#### 2.1.3 BOW Tokenizer\n",
    "Tokenizing step means converting texts into proper forms regarding considered model. This task can be done using following steps:\n",
    "1. Extracting Words: In this step, we extract sentences then words using some regex to omit html characters, removing punctuations, etc.\n",
    "2. Stopwords: But we do not have to extract all words. We can omit those which have no particular meaning like preposisitions or auxiliary verbs such as 'a', 'the'. \n",
    "3. Normalizing: Like stemming or lematization. In simple words, converting tokenized words into words than can represent different form of the words. For instance, 'seems' and 'seem' both have same meaning and there is no reason to discreminate them.\n",
    "    1. Using hard-coded rules: In this situation, we just use some grammatical rules, etc to normalize words.\n",
    "    2. WordNet: Like always, we prefer machine extracted feature than hard-coded rules."
   ]
  },
  {
   "cell_type": "code",
   "execution_count": null,
   "metadata": {
    "colab": {},
    "colab_type": "code",
    "id": "acM5h1xbdcix"
   },
   "outputs": [],
   "source": [
    "def tokenizer(text: str, omit_stopwords: bool = True, root: str = 'lem') -> List[str]:\n",
    "    \"\"\"\n",
    "    Tokenizes a review into sentences then words using regex\n",
    "\n",
    "    :param text: a string to be tokenized\n",
    "    :param omit_stopwords: whether remove stopwords or not using NLTK\n",
    "    :param root: using `stemming`, `lemmatization` or none of them to get to the root of words ['lem', 'stem', 'none']\n",
    "    :return: a `List` of string\n",
    "    \"\"\"\n",
    "\n",
    "    # inits\n",
    "    words = []\n",
    "    stemmer = PorterStemmer()\n",
    "    lemmatizer = WordNetLemmatizer()\n",
    "\n",
    "    strings = re.sub(r'((<[ ]*br[ ]*[/]?[ ]*>)[ ]*)+', '\\n', text).lower().split('\\n')\n",
    "    for line in strings:\n",
    "        # remove punctuations\n",
    "        line = line.translate(str.maketrans('', '', string.punctuation))\n",
    "        words_of_line = re.sub(r'[\\d+.]+', '', line.strip()).split(' ')  # remove numbers\n",
    "        for w in words_of_line:\n",
    "            if omit_stopwords:\n",
    "                if w in stopwords.words('english'):\n",
    "                    continue\n",
    "\n",
    "            if root == 'none':  # no stemming or lemmatization\n",
    "                pass\n",
    "            elif root == 'lem':  # lemmatization using WordNet (DOWNLOAD NEEDED)\n",
    "                w = lemmatizer.lemmatize(w)\n",
    "            elif root == 'stem':  # stemming using Porter's algorithm\n",
    "                w = stemmer.stem(w)\n",
    "            else:\n",
    "                raise Exception('root mode not defined. Use \"lem\", \"stem\" or \"none\"')\n",
    "            if len(w) > 0:\n",
    "                words.append(w)\n",
    "    return words"
   ]
  },
  {
   "cell_type": "markdown",
   "metadata": {
    "colab_type": "text",
    "id": "hQNHP9dmfX1P"
   },
   "source": [
    "#### 2.1.4 Build BOW\n",
    "Now we have our filtered dic of vocabs, we can build {0, 1} array for each review instead of the words where 1 means word exists in that review and vice versa. (We need numerical representation for SVM, Naive Bayes, etc).\n",
    "\n",
    "I have used 0, 1 because it has lowest possible information about word frequencies. The reason is that BERT has maxmimum context for each word and TF-IDF has much more info about words in relation to BOW and this huge distance between these models enable us to see the huge difference in validation accuracy too."
   ]
  },
  {
   "cell_type": "code",
   "execution_count": null,
   "metadata": {
    "colab": {},
    "colab_type": "code",
    "id": "M3Xjrf9RfYFN"
   },
   "outputs": [],
   "source": [
    "def build_bow(words: List[str], vocabulary: Dict):\n",
    "    \"\"\"\n",
    "    Build Bag of Words model for given `List` of words regarding given `vocabulary` dictionary.\n",
    "\n",
    "    :param words: A list of words to be converted to BOW\n",
    "    :param vocabulary: A list of vocabulary as reference\n",
    "    :return: A `List` of int\n",
    "    \"\"\"\n",
    "    return np.array([1 if wv in words else 0 for wv in vocabulary], dtype=np.int8)\n"
   ]
  },
  {
   "cell_type": "markdown",
   "metadata": {
    "colab_type": "text",
    "id": "xiTUf5lwgqrf"
   },
   "source": [
    "### 2.2 BERT\n",
    "To understand what is BERT and how it works please read the paper, but different packages handle the interaction with model almost in same way except a few details.\n",
    "If I want to summarize its logic, it consider the context for each word using the sentence(words) that surrounded the main word and gives a float number to each word.\n",
    "Here I will explain about transfroms method."
   ]
  },
  {
   "cell_type": "markdown",
   "metadata": {
    "colab_type": "text",
    "id": "KToUYhlXgwx3"
   },
   "source": [
    "#### 2.2.1 Constants\n",
    "All punctions in BOW model has been removed but in BERT, some of the need to be exist, such as '?', '!', '.',',', etc. "
   ]
  },
  {
   "cell_type": "code",
   "execution_count": null,
   "metadata": {
    "colab": {},
    "colab_type": "code",
    "id": "nhQuWba9hku6"
   },
   "outputs": [],
   "source": [
    "PUNCTUATION = r\"\"\"\"#$%&()'*+-./<=>@[\\]^_`{|}~\"\"\""
   ]
  },
  {
   "cell_type": "markdown",
   "metadata": {
    "colab_type": "text",
    "id": "eTRQmplohokB"
   },
   "source": [
    "#### 2.2.2 BERT Tokenizer\n",
    "1. Case: BERT model has been trained case-sensitive and uncased. But I used uncased version.\n",
    "2. Converting reviews to sentences: We need to convert reviews into sentences and putting `[CLS]` at the begining and `[SEP]` at the end of each sentence. But this has been handled using package.\n",
    "3. Extract values using pretrained BERT: As it does not directly related to NLP, I have omited the explanation.\n",
    "4.  Padding: BERT will give you a 1-dimensional tensor for a sentence with the shape of `(1, 724)`. The bigger one model give us `(1, 1024)`.\n",
    "5. Now we have a `(1, 724)` vector for each sentence of each review. But each review contains many phrases so what I have done is taking mean column-wise. This enable us to have the mean magnitude of the whole phrases. Note that this approach has been used to get mean magnitude of the sentence using its word too."
   ]
  },
  {
   "cell_type": "code",
   "execution_count": null,
   "metadata": {
    "colab": {},
    "colab_type": "code",
    "id": "RWHgLKlEgrrh"
   },
   "outputs": [],
   "source": [
    "model = SentenceTransformer('bert-base-nli-mean-tokens')\n",
    "\n",
    "def bert_tokenizer(text: str, model = model):\n",
    "    \"\"\"\n",
    "    Preprocesses the input in BERT convention and use BERT tokenizer to tokenize and convert words to\n",
    "    IDs. In the end, we obtain hidden layers' values using PyTorch and pad all of them to have same\n",
    "    sized tensors to apply average at the end of process for each review.\n",
    "\n",
    "    example:\n",
    "\n",
    "    input: \"Hi Nik. How you doing?\"\n",
    "    1. preprocessed: \"[CLS] hi nik . [SEP] how you doing ? [SEP]\"\n",
    "    2. tokenization\n",
    "    3. convert to IDs\n",
    "    4. model values\n",
    "    5. padding\n",
    "    6. average row-wise (each row corresponds to a sentence of a review)\n",
    "\n",
    "    :param text: a string to be tokenized\n",
    "    :param pretrained: Which pretrained model to use\n",
    "    :return: A string in BERT  convention\n",
    "    \"\"\"\n",
    "\n",
    "    text = text.lower()\n",
    "    strings = re.sub(r'((<[ ]*br[ ]*[/]?[ ]*>)[ ]*)+', ' ', text).split(r'. ')\n",
    "    review_avg = np.empty(((len(strings), 768)))\n",
    "    for idx, s in enumerate(strings):\n",
    "        strings[idx] = strings[idx].translate(str.maketrans('', '', PUNCTUATION))\n",
    "    sentence_embeddings = model.encode(strings)\n",
    "\n",
    "    for idx, s in enumerate(sentence_embeddings):\n",
    "        review_avg[idx] = s\n",
    "\n",
    "    return review_avg.mean(axis=0).astype(np.float64)"
   ]
  },
  {
   "cell_type": "markdown",
   "metadata": {
    "colab_type": "text",
    "id": "6iHSrhbBPwKt"
   },
   "source": [
    "### 2.3 TF-IDF\n",
    "This step, aims to convert words to number using numbers using their frequencies etc. But how?\n",
    "\n",
    "In BOW model I have used 0, 1 weighting. You can use pure frequency too. But we know that all words cannot have same weights because some of them has more information (something like the logic we used for `filter_vocabulary` method.)\n",
    "\n",
    "TF-IDF consists of both word frequency and document frequency. It means TF-IDF enable us to see how much important the word is to a document in the whole corpus.\n",
    "\n",
    "TF-IDF has two terms to be calculated as its name indicates it.\n",
    "1. Term Frequency: `TF=(# of occurence of word T/# words in document)`\n",
    "2. Inverse Document Frequency: `IDF=(log(exp(# docs/# docs containing word T))`\n",
    "\n",
    "In summary, term 1 enable us to find out dominant words in each document, meanwhile term 2 enable us to weigh redundent ones down and weigh up the important ones.\n",
    "\n",
    "Here are the step for this purposes:\n",
    "\n",
    "1. Tokenizer\n",
    "2. Build TF-IDF"
   ]
  },
  {
   "cell_type": "markdown",
   "metadata": {
    "colab_type": "text",
    "id": "h7ExOJgdQehx"
   },
   "source": [
    "#### 2.3.1 Tokenizer\n",
    "I use same tokenizer I have used for BOW, because extracting words, normalizing them, etc all are same for TF-IDF."
   ]
  },
  {
   "cell_type": "code",
   "execution_count": null,
   "metadata": {
    "colab": {},
    "colab_type": "code",
    "id": "MWXvjVuuQac3"
   },
   "outputs": [],
   "source": [
    "def tokenizer(text: str, omit_stopwords: bool = True, root: str = 'lem') -> List[str]:\n",
    "    \"\"\"\n",
    "    Tokenizes a review into sentences then words using regex\n",
    "\n",
    "    :param text: a string to be tokenized\n",
    "    :param omit_stopwords: whether remove stopwords or not using NLTK\n",
    "    :param root: using `stemming`, `lemmatization` or none of them to get to the root of words ['lem', 'stem', 'none']\n",
    "    :return: a `List` of string\n",
    "    \"\"\"\n",
    "\n",
    "    # inits\n",
    "    words = []\n",
    "    stemmer = PorterStemmer()\n",
    "    lemmatizer = WordNetLemmatizer()\n",
    "\n",
    "    strings = re.sub(r'((<[ ]*br[ ]*[/]?[ ]*>)[ ]*)+', '\\n', text).lower().split('\\n')\n",
    "    for line in strings:\n",
    "        # remove punctuations\n",
    "        line = line.translate(str.maketrans('', '', string.punctuation))\n",
    "        words_of_line = re.sub(r'[\\d+.]+', '', line.strip()).split(' ')  # remove numbers\n",
    "        for w in words_of_line:\n",
    "            if omit_stopwords:\n",
    "                if w in stopwords.words('english'):\n",
    "                    continue\n",
    "\n",
    "            if root == 'none':  # no stemming or lemmatization\n",
    "                pass\n",
    "            elif root == 'lem':  # lemmatization using WordNet (DOWNLOAD NEEDED)\n",
    "                w = lemmatizer.lemmatize(w)\n",
    "            elif root == 'stem':  # stemming using Porter's algorithm\n",
    "                w = stemmer.stem(w)\n",
    "            else:\n",
    "                raise Exception('root mode not defined. Use \"lem\", \"stem\" or \"none\"')\n",
    "            if len(w) > 0:\n",
    "                words.append(w)\n",
    "    return words"
   ]
  },
  {
   "cell_type": "markdown",
   "metadata": {
    "colab_type": "text",
    "id": "pvYj5twvQuHp"
   },
   "source": [
    "#### 2.3.2 Build TF-IDF\n"
   ]
  },
  {
   "cell_type": "code",
   "execution_count": null,
   "metadata": {
    "colab": {},
    "colab_type": "code",
    "id": "ji54ZA4qQyZb"
   },
   "outputs": [],
   "source": [
    "def build_tf_idf(df: pd.DataFrame, custom_tokenizer: callable = tokenizer, names: Tuple[str] = ('text', 'label'),\n",
    "                 **kwargs):\n",
    "    \"\"\"\n",
    "    Builds TF-IDF embeddings for given corpus in a DataFrame\n",
    "\n",
    "    :param df: a pandas DataFrame\n",
    "    :param custom_tokenizer: A custom tokenizer function to replace default one\n",
    "    :param names: A tuple of strings containing key values of \"feature\" and \"label\" in the dataframes\n",
    "    :param kwargs: Optional parameters of object\n",
    "    :return: (A numpy ndarray object containing the features of given corpus, fitted vectorizer)\n",
    "    \"\"\"\n",
    "    vectorizer = TfidfVectorizer(tokenizer=custom_tokenizer, **kwargs)\n",
    "    x = vectorizer.fit_transform(df[names[0]].to_numpy())\n",
    "    return x.toarray(), vectorizer"
   ]
  },
  {
   "cell_type": "markdown",
   "metadata": {
    "colab_type": "text",
    "id": "rTdjlUJrkUZN"
   },
   "source": [
    "### 2.4 Get BOW, BERT, TF-IDF values\n",
    "In this step we just get those values.\n",
    "\n",
    "Something we need to be aware is that sklearn model packages need 2-D input for x and 1-D for y. So in each step we have a reshape.\n",
    "\n",
    "Note: Sometimes, we can see that I have casted data dtype and the reason is the limitation of memory. For instance, for BOW or Tf-IDF, default type is float64 and it will take about 15GB data, So I reduce it to float16 to only take about 3GB.\n",
    "\n",
    "1. BOW\n",
    "2. BERT\n",
    "3. TF-IDF"
   ]
  },
  {
   "cell_type": "markdown",
   "metadata": {
    "colab_type": "text",
    "id": "PZ8V6o3NSic0"
   },
   "source": [
    "#### 2.4.1 Get BOW"
   ]
  },
  {
   "cell_type": "code",
   "execution_count": null,
   "metadata": {
    "colab": {},
    "colab_type": "code",
    "id": "q1xwVMH0QWhg"
   },
   "outputs": [],
   "source": [
    "df['text'] = df['text'].apply(tokenizer)\n",
    "vocabs = read_vocabulary('vocab.vocab')\n",
    "filtered_vocab = filter_vocabulary(vocabs, 40000, False)\n",
    "print(df.head(5))\n",
    "df['text'] = df['text'].apply(build_bow, args=(filtered_vocab,))"
   ]
  },
  {
   "cell_type": "code",
   "execution_count": null,
   "metadata": {
    "colab": {},
    "colab_type": "code",
    "id": "Y9g8kO7qHX-L"
   },
   "outputs": [],
   "source": [
    "df['text'] = df['text'].apply(np.reshape, args=((1, -1),))\n",
    "x = np.concatenate(df['text'].to_numpy(), axis=0)\n",
    "y = df['label'].to_numpy().astype(np.int8)\n",
    "x = x.astype(np.int8)"
   ]
  },
  {
   "cell_type": "markdown",
   "metadata": {
    "colab_type": "text",
    "id": "5KijMf8oBxuw"
   },
   "source": [
    "Note: As colab may crash due to RAM issues, I save values to save time."
   ]
  },
  {
   "cell_type": "code",
   "execution_count": null,
   "metadata": {
    "colab": {},
    "colab_type": "code",
    "id": "jjeVnF9L984K"
   },
   "outputs": [],
   "source": [
    "np.save('x_test_bow', x)\n",
    "np.save('y_test_bow', y)"
   ]
  },
  {
   "cell_type": "code",
   "execution_count": null,
   "metadata": {
    "colab": {},
    "colab_type": "code",
    "id": "wXI-4TCVC-kw"
   },
   "outputs": [],
   "source": [
    "x = np.load('x_train.npy')\n",
    "y = np.load('y_train.npy')"
   ]
  },
  {
   "cell_type": "markdown",
   "metadata": {
    "colab_type": "text",
    "id": "QPqmgrggSm3d"
   },
   "source": [
    "#### 2.4.2 GET BERT"
   ]
  },
  {
   "cell_type": "code",
   "execution_count": null,
   "metadata": {
    "colab": {
     "base_uri": "https://localhost:8080/",
     "height": 119
    },
    "colab_type": "code",
    "id": "w0q8nMj7SrZ6",
    "outputId": "352b1ce5-75c2-4478-b4fb-87fb73c67f73"
   },
   "outputs": [
    {
     "name": "stdout",
     "output_type": "stream",
     "text": [
      "                                                text  label\n",
      "0  [-0.04469093028455973, 0.22785229980945587, 1....      1\n",
      "1  [-0.08899574565629546, 0.6020955696272162, 0.9...      0\n",
      "2  [-0.16736593780418238, 0.41776339632148546, 0....      1\n",
      "3  [0.017716815126025014, 0.15603996813297272, 0....      1\n",
      "4  [0.22297563622979558, 0.33016353927771835, 0.9...      1\n"
     ]
    }
   ],
   "source": [
    "df['text'] = df['text'].apply(bert_tokenizer)\n",
    "print(df.head(5))"
   ]
  },
  {
   "cell_type": "code",
   "execution_count": null,
   "metadata": {
    "colab": {},
    "colab_type": "code",
    "id": "n8QFErAvS3wP"
   },
   "outputs": [],
   "source": [
    "df['text'] = df['text'].apply(np.reshape, args=((1, -1),))\n",
    "x = np.concatenate(df['text'].to_numpy(), axis=0)\n",
    "y = df['label'].to_numpy().astype(np.int8)"
   ]
  },
  {
   "cell_type": "code",
   "execution_count": null,
   "metadata": {
    "colab": {},
    "colab_type": "code",
    "id": "OSi1K4soUO31"
   },
   "outputs": [],
   "source": [
    "np.save('x_test_bert', x)\n",
    "np.save('y_test_bert', y)"
   ]
  },
  {
   "cell_type": "markdown",
   "metadata": {
    "colab_type": "text",
    "id": "BvQqvfj3Ric2"
   },
   "source": [
    "#### 2.4.3 GET TF-IDF\n",
    "I think  have to mention two poins here:\n",
    "1. I used 2-gram model: 1-gram model is just considering each word separately from the other ones like BOW model. But 2-gram model gets any combination of words that can build a 2-word term.\n",
    "\n",
    "2. I used `max_features=60000` as I have previously encountered errors related to memory issues (time is small around 20 to 40 mintues). Using a low value such this, may degrade the performance immensly."
   ]
  },
  {
   "cell_type": "code",
   "execution_count": null,
   "metadata": {
    "colab": {},
    "colab_type": "code",
    "id": "diQmAoshRovz"
   },
   "outputs": [],
   "source": [
    "x, tfidf_vec_fitted = build_tf_idf(df, tokenizer, lowercase=False, analyzer='word', ngram_range=(1,2), max_features=60000)\n",
    "y = df['label'].to_numpy().astype(np.int8)\n",
    "x = x.astype(np.float16)"
   ]
  },
  {
   "cell_type": "code",
   "execution_count": null,
   "metadata": {
    "colab": {},
    "colab_type": "code",
    "id": "xstBFI6h-HTa"
   },
   "outputs": [],
   "source": [
    "with open('tfidf_vec_fitted.model', 'rb') as f:\n",
    "    tfidf_vec_fitted = pickle.load(f)"
   ]
  },
  {
   "cell_type": "code",
   "execution_count": null,
   "metadata": {
    "colab": {},
    "colab_type": "code",
    "id": "BMZIxWAA1RAt"
   },
   "outputs": [],
   "source": [
    "# in test mode just transform not fit the TF-IDF vectorizer\n",
    "x_test = tfidf_vec_fitted.transform(df['text'].to_numpy())\n",
    "y_test = df['label'].to_numpy().astype(np.int8)\n",
    "x_test = x_test.toarray()\n",
    "x_test = x_test.astype(np.float16)"
   ]
  },
  {
   "cell_type": "code",
   "execution_count": null,
   "metadata": {
    "colab": {},
    "colab_type": "code",
    "id": "1VH2Os-Edjc-"
   },
   "outputs": [],
   "source": [
    "np.save('x_test_tfidf', x_test)\n",
    "np.save('y_test_tfidf', y_test)\n",
    "# pickle.dump(tfidf_vec_fitted, open('tfidf_vec_fitted.model', 'wb'))"
   ]
  },
  {
   "cell_type": "code",
   "execution_count": null,
   "metadata": {
    "colab": {},
    "colab_type": "code",
    "id": "iZ_aHJuVg2IA"
   },
   "outputs": [],
   "source": [
    "x = np.load('x_train_tfidf.npy')\n",
    "y = np.load('y_train_tfidf.npy')"
   ]
  },
  {
   "cell_type": "markdown",
   "metadata": {
    "colab_type": "text",
    "id": "uff8sFIw58Wr"
   },
   "source": [
    "## 3 Training Models\n",
    "In this step we build 4 type of models for our BOW, BERT, TF-IDF and Word2vec embeddings.\n",
    "1. Naive Bayes\n",
    "2. SVM\n",
    "3. Decision Tree\n",
    "4. Random Forest\n",
    "\n",
    "Note: As the data is huge and we do not have any infrastructure to run our codes, only linear svc in SVM can converge for BOW and TF-IDF model.\n"
   ]
  },
  {
   "cell_type": "code",
   "execution_count": null,
   "metadata": {
    "colab": {},
    "colab_type": "code",
    "id": "eV1oXKDNZlYE"
   },
   "outputs": [],
   "source": [
    "# %% import libraries\n",
    "import numpy as np\n",
    "import pandas as pd\n",
    "import pickle\n",
    "\n",
    "from typing import Dict\n",
    "from sklearn.naive_bayes import BaseNB\n",
    "from sklearn.svm import base\n",
    "\n",
    "from sklearn.naive_bayes import GaussianNB, BernoulliNB, MultinomialNB\n",
    "from sklearn.svm import SVC, LinearSVC\n",
    "from sklearn.tree import DecisionTreeClassifier\n",
    "from sklearn.ensemble import RandomForestClassifier\n",
    "\n",
    "# from sentiment_analysis.utils import F, IO\n",
    "\n",
    "\n",
    "# %% constants and inits\n",
    "class BAYES_MODELS:\n",
    "    \"\"\"\n",
    "    Enum of possible models\n",
    "    \"\"\"\n",
    "    GAUSSIAN = 1\n",
    "    POLYNOMIAL = 2\n",
    "    BERNOULLI = 3\n",
    "\n",
    "\n",
    "class SVM_MODELS:\n",
    "    \"\"\"\n",
    "    Enum of possible models\n",
    "    \"\"\"\n",
    "    SVC = 1\n",
    "    LINEAR_SVC = 2\n",
    "\n",
    "\n",
    "# %% functions\n",
    "def build_svm(model_type: int, x: np.ndarray, y: np.ndarray, svc_kernel: str = None, save: bool = True,\n",
    "              path: str = None, **kwargs) -> base:\n",
    "    \"\"\"\n",
    "    Trains a SVM model\n",
    "\n",
    "    :param model_type: The kernel of SVM model (see `SVM_MODELS` class)\n",
    "    :param svc_kernel: The possible kernels for `SVC` model (It must be one of ‘linear’, ‘poly’, ‘rbf’, ‘sigmoid’)\n",
    "    It will be ignored if `model_type = LINEAR_SVC`\n",
    "    :param x: Features in form of numpy ndarray\n",
    "    :param y: Labels in form of numpy ndarray\n",
    "    :param save: Whether save trained model on disc or not\n",
    "    :param path: Path to save fitted model\n",
    "    :param kwargs: A dictionary of other optional arguments of models in format of {'arg_name': value} (ex: {'C': 2})\n",
    "    :return:A trained VSM model\n",
    "    \"\"\"\n",
    "    if model_type == SVM_MODELS.SVC:\n",
    "        model = SVC(kernel=svc_kernel, **kwargs)\n",
    "    elif model_type == SVM_MODELS.LINEAR_SVC:\n",
    "        model = LinearSVC(**kwargs)\n",
    "    else:\n",
    "        raise Exception('Model {} is not valid'.format(model_type))\n",
    "\n",
    "    model.fit(x, y)\n",
    "\n",
    "    if save:\n",
    "        if path is None:\n",
    "            path = ''\n",
    "        pickle.dump(model, open(path + model.__module__ + '.model', 'wb'))\n",
    "    return model\n",
    "\n",
    "\n",
    "def build_bayes(model_type: int, x: np.ndarray, y: np.ndarray, save: bool = True, path: str = None, **kwargs) -> BaseNB:\n",
    "    \"\"\"\n",
    "    Trains a naive bayes model\n",
    "\n",
    "    :param model_type: The kernel of Naive Bayes model (see `BAYES_MODELS` class)\n",
    "    :param x: Features in form of numpy ndarray\n",
    "    :param y: Labels in form of numpy ndarray\n",
    "    :param save: Whether save trained model on disc or not\n",
    "    :param path: Path to save fitted model\n",
    "    :return: A trained Naive Bayes model\n",
    "    \"\"\"\n",
    "\n",
    "    if model_type == BAYES_MODELS.GAUSSIAN:\n",
    "        model = GaussianNB(**kwargs)\n",
    "    elif model_type == BAYES_MODELS.BERNOULLI:\n",
    "        model = BernoulliNB(binarize=None, **kwargs)\n",
    "    elif model_type == BAYES_MODELS.POLYNOMIAL:\n",
    "        model = MultinomialNB(**kwargs)\n",
    "    else:\n",
    "        raise Exception('Kernel type \"{}\" is not valid.'.format(model_type))\n",
    "\n",
    "    model.fit(x, y)\n",
    "\n",
    "    if save:\n",
    "        if path is None:\n",
    "            path = ''\n",
    "        pickle.dump(model, open(path + model.__module__ + '.model', 'wb'))\n",
    "    return model\n",
    "\n",
    "\n",
    "def build_decision_tree(x: np.ndarray, y: np.ndarray, save: bool = True,\n",
    "                        path: str = None, **kwargs) -> DecisionTreeClassifier:\n",
    "    \"\"\"\n",
    "    Trains a Decision Tree model\n",
    "\n",
    "    :param x: Features in form of numpy ndarray\n",
    "    :param y: Labels in form of numpy ndarray\n",
    "    :param save: Whether save trained model on disc or not\n",
    "    :param path: Path to save fitted model\n",
    "    :return: A trained Decision Tree model\n",
    "    \"\"\"\n",
    "    model = DecisionTreeClassifier(**kwargs)\n",
    "\n",
    "    model.fit(x, y)\n",
    "\n",
    "    if save:\n",
    "        if path is None:\n",
    "            path = ''\n",
    "        pickle.dump(model, open(path + model.__module__ + '.model', 'wb'))\n",
    "    return model\n",
    "\n",
    "\n",
    "def build_random_forest(x: np.ndarray, y: np.ndarray, save: bool = True,\n",
    "                        path: str = None, **kwargs) -> RandomForestClassifier:\n",
    "    \"\"\"\n",
    "    Trains a Random Forest model\n",
    "\n",
    "    :param x: Features in form of numpy ndarray\n",
    "    :param y: Labels in form of numpy ndarray\n",
    "    :param save: Whether save trained model on disc or not\n",
    "    :param path: Path to save fitted model\n",
    "    :return: A trained Random Forest model\n",
    "    \"\"\"\n",
    "    model = RandomForestClassifier(**kwargs)\n",
    "\n",
    "    model.fit(x, y)\n",
    "\n",
    "    if save:\n",
    "        if path is None:\n",
    "            path = ''\n",
    "        pickle.dump(model, open(path + model.__module__ + '.model', 'wb'))\n",
    "    return model"
   ]
  },
  {
   "cell_type": "code",
   "execution_count": null,
   "metadata": {
    "colab": {},
    "colab_type": "code",
    "id": "OFBk8tK-Uuqt"
   },
   "outputs": [],
   "source": [
    "# svc_linear = build_svm(model_type=SVM_MODELS.LINEAR_SVC, x=x, y=y, max_iter=20000, path='tfidf_')\n",
    "# bayes = build_bayes(BAYES_MODELS.POLYNOMIAL, x, y, True, path='tfidf_')\n",
    "# svc_rbf = build_svm(model_type=SVM_MODELS.SVC, x=x, y=y, svc_kernel='rbf', path='tfidf_svc_rbf_')\n",
    "# dt = build_decision_tree(x=x, y=y, path='tfidf_')\n",
    "# rf = build_random_forest(x=x, y=y, path='tfidf_rf100_',n_estimators=100)"
   ]
  },
  {
   "cell_type": "markdown",
   "metadata": {
    "colab_type": "text",
    "id": "oqorEJil7NuG"
   },
   "source": [
    "## 4 Metrics\n",
    "In this step, we compare different trained models regarding BOW or BERT embeddings using information can be gained from confusion matrix such as Accuracy, F1 Score, AUC.\n",
    "\n",
    "The metrics have been covered:\n",
    "1. Accuracy\n",
    "2. Precision\n",
    "3. Recall\n",
    "4. F1\n",
    "5. ROC Graph\n",
    "6. AUC Score\n",
    "\n",
    "This section consists of following steps:\n",
    "1. BOW\n",
    "    1. Linear SVC\n",
    "    2. Gaussian Naive Bayes\n",
    "    3. Decision Tree (Gini)\n",
    "    4. Random Forest (100 Estimators)\n",
    "2. BERT\n",
    "    1. Linear SVC\n",
    "    2. Gaussian Naive Bayes\n",
    "    3. Decision Tree (Gini)\n",
    "    4. Random Forest (100 Estimators)\n",
    "    5. Random Forest (10 Estimators)\n",
    "3. TF-IDF\n",
    "    1. Linear SVC\n",
    "    2. Gaussian Naive Bayes\n",
    "    3. Decision Tree (Gini)\n",
    "    4. Random Forest (100 Estimators)"
   ]
  },
  {
   "cell_type": "markdown",
   "metadata": {
    "colab_type": "text",
    "id": "EnGI1CvCsFxi"
   },
   "source": [
    "### 4.0 Metrics\n",
    "Let's explain the metrics here to omit duplicate explanation in comparison of models' results.\n",
    "\n",
    "0. Confusion Matrix\n",
    "1. Accuracy\n",
    "2. Precision\n",
    "3. Recall\n",
    "4. F1\n",
    "5. ROC Graph\n",
    "6. AUC Score"
   ]
  },
  {
   "cell_type": "markdown",
   "metadata": {
    "colab_type": "text",
    "id": "Vig9hBpMs6SI"
   },
   "source": [
    "#### 4.0.0 Confusion Matrix\n",
    "Becaus all other metircs can be calculated, we first introduce confusion matrix.\n",
    "\n",
    "Our confusion matrix is like this image:\n",
    "\n",
    "![confusion matrix](wiki/cm.jpg)\n",
    "\n",
    "Where:\n",
    "\n",
    "* `TN = True Negative`\n",
    "* `FP = False Positive`\n",
    "* `FN = False Negative`\n",
    "* `TP = True Positive`"
   ]
  },
  {
   "cell_type": "markdown",
   "metadata": {
    "colab_type": "text",
    "id": "8mX3318msZWG"
   },
   "source": [
    "#### 4.0.1 Accuracy\n",
    "Accuracy is how our model can say class 1 is 1 and 0 is 0 regarding all given examples.\n",
    "\n",
    "Give confusion matrix,\n",
    "\n",
    "`Accuracy = (TN+TP) / (TN+FP+FN+TP)`\n",
    "\n",
    "So obviously more is better."
   ]
  },
  {
   "cell_type": "markdown",
   "metadata": {
    "colab_type": "text",
    "id": "TsebnlnYzAML"
   },
   "source": [
    "#### 4.0.2 Precision\n",
    "Based on confusion matrix,\n",
    "\n",
    "`precision = TP / (FP+TP)`\n",
    "\n",
    "Precision is the ratio of correctly predicted positive observations to the total predicted positive observations. High precision relates to the low false positive rate. In our case, it says between all those we labeled as positive, how many of the are actually positive."
   ]
  },
  {
   "cell_type": "markdown",
   "metadata": {
    "colab_type": "text",
    "id": "MCSvCiGWzDDl"
   },
   "source": [
    "#### 4.0.3 Recall\n",
    "Based on confusion matrix,\n",
    "\n",
    "`recall = TP / (TP+FN)`\n",
    "\n",
    "Recall is the ratio of correctly predicted positive observations to the all observations in actual positive class.\n",
    "In our case, Between all label is positive, how many we said positive."
   ]
  },
  {
   "cell_type": "markdown",
   "metadata": {
    "colab_type": "text",
    "id": "OlGKbQwBzj_i"
   },
   "source": [
    "#### 4.0.4 F1 Score\n",
    "Based on available values,\n",
    "\n",
    "`F1 = 2*(Recall * Precision) / (Recall + Precision)`\n",
    "F1 score is weighted average of precision and recall, so it is very usefull when the cost of error of classes are different from each other (say disease detection).\n"
   ]
  },
  {
   "cell_type": "markdown",
   "metadata": {
    "colab_type": "text",
    "id": "Sh8vLyPY3GGR"
   },
   "source": [
    "#### 4.0.5 ROC-AUC\n",
    "Let's talk about ROC using AUC value as these are seamlessly interchangable.\n",
    "\n",
    "AUC is the area under ROC graph. More AUC says our model is more powerful to distinguish between the two classes. AUC = 0.5 says our model almost failed to differentiate. AUC = 1 is perfect model.\n",
    "\n",
    "For plotting we need two values:\n",
    "1. `TPR = TP / (TP + FN)`\n",
    "2. `FPR = FP / (FP + TN)` \n",
    "\n",
    "Now we compare these values regarding different classification thresholds. Increasing threshold label more entries as positive so it increases both `FP` and `TP`.\n",
    "\n",
    "AUC is the aggregated measure of performance among all possible thresholds."
   ]
  },
  {
   "cell_type": "code",
   "execution_count": null,
   "metadata": {
    "colab": {},
    "colab_type": "code",
    "id": "1_L8VpOtOg6c"
   },
   "outputs": [],
   "source": [
    "# %% import libraries\n",
    "from sklearn.metrics import confusion_matrix, roc_auc_score, roc_curve\n",
    "import matplotlib.pyplot as plt\n",
    "import numpy as np\n",
    "\n",
    "from typing import Tuple, List\n",
    "\n",
    "\n",
    "# %% functions\n",
    "def accuracy(cm: np.ndarray) -> float:\n",
    "    \"\"\"\n",
    "    Calculates accuracy using given confusion matrix\n",
    "\n",
    "    :param cm: Confusion matrix in form of np.ndarray\n",
    "    :return: A float number\n",
    "    \"\"\"\n",
    "    true = np.trace(cm)\n",
    "    false = np.sum(cm) - true\n",
    "    ac = true / (true + false)\n",
    "    return ac\n",
    "\n",
    "\n",
    "def precision(cm: np.ndarray) -> np.ndarray:\n",
    "    \"\"\"\n",
    "    Precision of the model using given confusion matrix\n",
    "\n",
    "    :param cm: Confusion matrix in form of np.ndarray\n",
    "    :return: A list of precisions with size of number of classes\n",
    "    \"\"\"\n",
    "    tp = np.diag(cm)\n",
    "    tpp = np.sum(cm, axis=0)\n",
    "    with np.errstate(divide='ignore', invalid='ignore'):\n",
    "        p = np.true_divide(tp, tpp)\n",
    "        p[~ np.isfinite(p)] = 0\n",
    "        p = np.nan_to_num(p)\n",
    "    return p\n",
    "\n",
    "\n",
    "def recall(cm: np.ndarray) -> np.ndarray:\n",
    "    \"\"\"\n",
    "    Recall of the model using given confusion matrix\n",
    "\n",
    "    :param cm: Confusion matrix in form of np.ndarray\n",
    "    :return: A list of recalls with size of number of classes\n",
    "    \"\"\"\n",
    "    tp = np.diag(cm)\n",
    "    tap = np.sum(cm, axis=1)\n",
    "    with np.errstate(divide='ignore', invalid='ignore'):\n",
    "        r = np.true_divide(tp, tap)\n",
    "        r[~ np.isfinite(r)] = 0\n",
    "        r = np.nan_to_num(r)\n",
    "    return r\n",
    "\n",
    "\n",
    "def f1(cm: np.ndarray) -> float:\n",
    "    \"\"\"\n",
    "    F1 score of the model using given confusion matrix\n",
    "\n",
    "    :param cm: Confusion matrix in form of np.ndarray\n",
    "    :return: A float number\n",
    "    \"\"\"\n",
    "    p = precision(cm)\n",
    "    r = recall(cm)\n",
    "    with np.errstate(divide='ignore', invalid='ignore'):\n",
    "        f = np.true_divide(p * r, p + r)\n",
    "        f[~ np.isfinite(f)] = 0\n",
    "        f = np.nan_to_num(f)\n",
    "    return f * 2\n",
    "\n",
    "\n",
    "def roc_auc(true, pred, plot=False) -> Tuple[float, Tuple[List[float], List[float], List[float]]]:\n",
    "    \"\"\"\n",
    "    Calculates AUC and ROC on binary data\n",
    "\n",
    "    :param true: True labels\n",
    "    :param pred: Predicted labels\n",
    "    :param plot: Whether or not plot the ROC curve\n",
    "    :return: A tuple of (AUC value, ROC curve values)\n",
    "    \"\"\"\n",
    "    fpr, tpr, th = roc_curve(true, pred, pos_label=1)\n",
    "    auc = roc_auc_score(true, pred)\n",
    "    if plot:\n",
    "        plt.plot(fpr, tpr, color='blue', lw=2, label='ROC curve (area = %0.2f)' % auc)\n",
    "        plt.show()\n",
    "    return auc, (fpr, tpr, th)"
   ]
  },
  {
   "cell_type": "markdown",
   "metadata": {
    "colab_type": "text",
    "id": "q2Me6oRp79NC"
   },
   "source": [
    "### 4.1 BOW\n",
    "1. Linear SVC\n",
    "2. Gaussian Naive Bayes\n",
    "3. Decision Tree\n",
    "4. Random Forest (100 Estimators)\n",
    "5. Random Forest (10 Estimators)"
   ]
  },
  {
   "cell_type": "code",
   "execution_count": null,
   "metadata": {
    "colab": {},
    "colab_type": "code",
    "id": "tCxOu1Omexwt"
   },
   "outputs": [],
   "source": [
    "x_test = np.load('drive/My Drive/IUST-PR/HW1/BOW/x_test_bow.npy')\n",
    "y_test = np.load('drive/My Drive/IUST-PR/HW1/BOW/y_test_bow.npy')"
   ]
  },
  {
   "cell_type": "markdown",
   "metadata": {
    "colab_type": "text",
    "id": "RMHovGau8Gc9"
   },
   "source": [
    "#### 4.1.1 Linear SVC"
   ]
  },
  {
   "cell_type": "code",
   "execution_count": null,
   "metadata": {
    "colab": {
     "base_uri": "https://localhost:8080/",
     "height": 350
    },
    "colab_type": "code",
    "id": "caPNZKQc8Mx3",
    "outputId": "3eb6806c-07df-4b93-f2d0-9b5f3f0ff788"
   },
   "outputs": [
    {
     "name": "stdout",
     "output_type": "stream",
     "text": [
      "Accuracy = 0.75296\n",
      "Precision = 0.7529666313684613\n",
      "Recall =  0.75296\n",
      "F1 Score =  0.7529583809880456\n"
     ]
    },
    {
     "data": {
      "image/png": "[encoded data removed]",
      "text/plain": [
       "<Figure size 432x288 with 1 Axes>"
      ]
     },
     "metadata": {
      "tags": []
     },
     "output_type": "display_data"
    },
    {
     "name": "stdout",
     "output_type": "stream",
     "text": [
      "AUC Score =  0.75296\n"
     ]
    }
   ],
   "source": [
    "with open('drive/My Drive/IUST-PR/HW1/BOW/sklearn.svm.classes.model', 'rb') as f:\n",
    "    linear_svc_bow = pickle.load(f)\n",
    "\n",
    "pred = linear_svc_bow.predict(x_test)\n",
    "cm = confusion_matrix(y_test, pred)\n",
    "print('Accuracy =', accuracy(cm))\n",
    "print('Precision =', precision(cm).mean())\n",
    "print('Recall = ', recall(cm).mean())\n",
    "print('F1 Score = ', f1(cm).mean())\n",
    "print('AUC Score = ', roc_auc(y_test, pred, True)[0])"
   ]
  },
  {
   "cell_type": "markdown",
   "metadata": {
    "colab_type": "text",
    "id": "O8PmaQvD8LFZ"
   },
   "source": [
    "#### 4.1.2 Gaussian Naive Bayes"
   ]
  },
  {
   "cell_type": "code",
   "execution_count": null,
   "metadata": {
    "colab": {
     "base_uri": "https://localhost:8080/",
     "height": 350
    },
    "colab_type": "code",
    "id": "EB4a-Lu18QEU",
    "outputId": "4c4b41b0-028c-45d4-ffcb-9634fc9a9274"
   },
   "outputs": [
    {
     "name": "stdout",
     "output_type": "stream",
     "text": [
      "Accuracy = 0.5022\n",
      "Precision = 0.5024223332828854\n",
      "Recall =  0.5022\n",
      "F1 Score =  0.4905091253839987\n"
     ]
    },
    {
     "data": {
      "image/png": "[encoded data removed]",
      "text/plain": [
       "<Figure size 432x288 with 1 Axes>"
      ]
     },
     "metadata": {
      "tags": []
     },
     "output_type": "display_data"
    },
    {
     "name": "stdout",
     "output_type": "stream",
     "text": [
      "AUC Score =  0.5022\n"
     ]
    }
   ],
   "source": [
    "with open('drive/My Drive/IUST-PR/HW1/BOW/sklearn.naive_bayes.model', 'rb') as f:\n",
    "    gaussian_bayes_bow = pickle.load(f)\n",
    "\n",
    "pred = gaussian_bayes_bow.predict(x_test)\n",
    "cm = confusion_matrix(y_test, pred)\n",
    "print('Accuracy =', accuracy(cm))\n",
    "print('Precision =', precision(cm).mean())\n",
    "print('Recall = ', recall(cm).mean())\n",
    "print('F1 Score = ', f1(cm).mean())\n",
    "print('AUC Score = ', roc_auc(y_test, pred, True)[0])"
   ]
  },
  {
   "cell_type": "markdown",
   "metadata": {
    "colab_type": "text",
    "id": "-YTZYBYu8Qyz"
   },
   "source": [
    "#### 4.1.3 Decision Tree"
   ]
  },
  {
   "cell_type": "code",
   "execution_count": null,
   "metadata": {
    "colab": {
     "base_uri": "https://localhost:8080/",
     "height": 350
    },
    "colab_type": "code",
    "id": "O7CVMcJw8Uar",
    "outputId": "cae2b2a1-b432-4aad-b219-4ee80726d35b"
   },
   "outputs": [
    {
     "name": "stdout",
     "output_type": "stream",
     "text": [
      "Accuracy = 0.69924\n",
      "Precision = 0.6992592934006392\n",
      "Recall =  0.6992400000000001\n",
      "F1 Score =  0.6992327195069016\n"
     ]
    },
    {
     "data": {
      "image/png": "[encoded data removed]",
      "text/plain": [
       "<Figure size 432x288 with 1 Axes>"
      ]
     },
     "metadata": {
      "tags": []
     },
     "output_type": "display_data"
    },
    {
     "name": "stdout",
     "output_type": "stream",
     "text": [
      "AUC Score =  0.69924\n"
     ]
    }
   ],
   "source": [
    "with open('drive/My Drive/IUST-PR/HW1/BOW/sklearn.tree.tree.model', 'rb') as f:\n",
    "    dt_bow = pickle.load(f)\n",
    "\n",
    "pred = dt_bow.predict(x_test)\n",
    "cm = confusion_matrix(y_test, pred)\n",
    "print('Accuracy =', accuracy(cm))\n",
    "print('Precision =', precision(cm).mean())\n",
    "print('Recall = ', recall(cm).mean())\n",
    "print('F1 Score = ', f1(cm).mean())\n",
    "print('AUC Score = ', roc_auc(y_test, pred, True)[0])"
   ]
  },
  {
   "cell_type": "markdown",
   "metadata": {
    "colab_type": "text",
    "id": "gfRRuHko8U_a"
   },
   "source": [
    "#### 4.1.4 Random Forest (100 estimators)"
   ]
  },
  {
   "cell_type": "code",
   "execution_count": null,
   "metadata": {
    "colab": {
     "base_uri": "https://localhost:8080/",
     "height": 350
    },
    "colab_type": "code",
    "id": "IK45_hgV8Ylk",
    "outputId": "1d67a563-b6ee-472a-d000-e283047dac01"
   },
   "outputs": [
    {
     "name": "stdout",
     "output_type": "stream",
     "text": [
      "Accuracy = 0.80596\n",
      "Precision = 0.8062815220906299\n",
      "Recall =  0.80596\n",
      "F1 Score =  0.8059090627744345\n"
     ]
    },
    {
     "data": {
      "image/png": "[encoded data removed]",
      "text/plain": [
       "<Figure size 432x288 with 1 Axes>"
      ]
     },
     "metadata": {
      "tags": []
     },
     "output_type": "display_data"
    },
    {
     "name": "stdout",
     "output_type": "stream",
     "text": [
      "AUC Score =  0.80596\n"
     ]
    }
   ],
   "source": [
    "with open('drive/My Drive/IUST-PR/HW1/BOW/sklearn.ensemble.forest.bow.100est.modelsklearn.ensemble.forest.model', 'rb') as f:\n",
    "    dt_bow = pickle.load(f)\n",
    "\n",
    "pred = dt_bow.predict(x_test)\n",
    "cm = confusion_matrix(y_test, pred)\n",
    "print('Accuracy =', accuracy(cm))\n",
    "print('Precision =', precision(cm).mean())\n",
    "print('Recall = ', recall(cm).mean())\n",
    "print('F1 Score = ', f1(cm).mean())\n",
    "print('AUC Score = ', roc_auc(y_test, pred, True)[0])"
   ]
  },
  {
   "cell_type": "markdown",
   "metadata": {
    "colab_type": "text",
    "id": "OUrDgNK3gPQw"
   },
   "source": [
    "#### 4.1.5 Random Forest (10 Estimators)"
   ]
  },
  {
   "cell_type": "code",
   "execution_count": null,
   "metadata": {
    "colab": {
     "base_uri": "https://localhost:8080/",
     "height": 350
    },
    "colab_type": "code",
    "id": "oY0MXxkxgY7S",
    "outputId": "54707013-e9dd-45b8-f4a4-c74a9521a7be"
   },
   "outputs": [
    {
     "name": "stdout",
     "output_type": "stream",
     "text": [
      "Accuracy = 0.7082\n",
      "Precision = 0.7154237918813569\n",
      "Recall =  0.7081999999999999\n",
      "F1 Score =  0.7057330917675375\n"
     ]
    },
    {
     "data": {
      "image/png": "[encoded data removed]",
      "text/plain": [
       "<Figure size 432x288 with 1 Axes>"
      ]
     },
     "metadata": {
      "tags": []
     },
     "output_type": "display_data"
    },
    {
     "name": "stdout",
     "output_type": "stream",
     "text": [
      "AUC Score =  0.7081999999999999\n"
     ]
    }
   ],
   "source": [
    "with open('drive/My Drive/IUST-PR/HW1/BOW/sklearn.ensemble.forest.model', 'rb') as f:\n",
    "    dt_bow = pickle.load(f)\n",
    "\n",
    "pred = dt_bow.predict(x_test)\n",
    "cm = confusion_matrix(y_test, pred)\n",
    "print('Accuracy =', accuracy(cm))\n",
    "print('Precision =', precision(cm).mean())\n",
    "print('Recall = ', recall(cm).mean())\n",
    "print('F1 Score = ', f1(cm).mean())\n",
    "print('AUC Score = ', roc_auc(y_test, pred, True)[0])"
   ]
  },
  {
   "cell_type": "markdown",
   "metadata": {
    "colab_type": "text",
    "id": "wOP3iDrl8bHJ"
   },
   "source": [
    "### 4.2 BERT\n",
    "1. Linear SVC\n",
    "2. Bernoulli Naive Bayes\n",
    "3. Gaussian Naive Bayes\n",
    "4. Decision Tree\n",
    "5. Random Forest\n",
    "6. RBF SVM"
   ]
  },
  {
   "cell_type": "code",
   "execution_count": null,
   "metadata": {
    "colab": {},
    "colab_type": "code",
    "id": "01fPNGej-SlW"
   },
   "outputs": [],
   "source": [
    "x_test = np.load('x_test_bert.npy')\n",
    "y_test = np.load('y_test_bert.npy')"
   ]
  },
  {
   "cell_type": "markdown",
   "metadata": {
    "colab_type": "text",
    "id": "xnwTV5ZD8jFH"
   },
   "source": [
    "#### 4.2.1 Linear SVC"
   ]
  },
  {
   "cell_type": "code",
   "execution_count": null,
   "metadata": {
    "colab": {
     "base_uri": "https://localhost:8080/",
     "height": 350
    },
    "colab_type": "code",
    "id": "qEFTMHfQ8nMZ",
    "outputId": "44b179ae-2c17-4e0f-cf9c-e88d64224892"
   },
   "outputs": [
    {
     "name": "stdout",
     "output_type": "stream",
     "text": [
      "Accuracy = 0.9006\n",
      "Precision = 0.9006003102248803\n",
      "Recall =  0.9006\n",
      "F1 Score =  0.9005999807561562\n"
     ]
    },
    {
     "data": {
      "image/png": "[encoded data removed]",
      "text/plain": [
       "<Figure size 432x288 with 1 Axes>"
      ]
     },
     "metadata": {
      "tags": []
     },
     "output_type": "display_data"
    },
    {
     "name": "stdout",
     "output_type": "stream",
     "text": [
      "AUC Score =  0.9006\n"
     ]
    }
   ],
   "source": [
    "pred = svc_linear.predict(x_test)\n",
    "cm = confusion_matrix(y_test, pred)\n",
    "print('Accuracy =', accuracy(cm))\n",
    "print('Precision =', precision(cm).mean())\n",
    "print('Recall = ', recall(cm).mean())\n",
    "print('F1 Score = ', f1(cm).mean())\n",
    "print('AUC Score = ', roc_auc(y_test, pred, True)[0])"
   ]
  },
  {
   "cell_type": "markdown",
   "metadata": {
    "colab_type": "text",
    "id": "DFkHpX3u8nqm"
   },
   "source": [
    "#### 4.2.2 Bernoulli Naive Bayes"
   ]
  },
  {
   "cell_type": "code",
   "execution_count": null,
   "metadata": {
    "colab": {
     "base_uri": "https://localhost:8080/",
     "height": 384
    },
    "colab_type": "code",
    "id": "I-7lfVY18sbN",
    "outputId": "96e49265-2468-419f-ec64-d8b212239c43"
   },
   "outputs": [
    {
     "name": "stderr",
     "output_type": "stream",
     "text": [
      "/usr/local/lib/python3.6/dist-packages/sklearn/naive_bayes.py:955: RuntimeWarning: invalid value encountered in log\n",
      "  neg_prob = np.log(1 - np.exp(self.feature_log_prob_))\n"
     ]
    },
    {
     "name": "stdout",
     "output_type": "stream",
     "text": [
      "Accuracy = 0.5\n",
      "Precision = 0.25\n",
      "Recall =  0.5\n",
      "F1 Score =  0.3333333333333333\n"
     ]
    },
    {
     "data": {
      "image/png": "[encoded data removed]",
      "text/plain": [
       "<Figure size 432x288 with 1 Axes>"
      ]
     },
     "metadata": {
      "tags": []
     },
     "output_type": "display_data"
    },
    {
     "name": "stdout",
     "output_type": "stream",
     "text": [
      "AUC Score =  0.5\n"
     ]
    }
   ],
   "source": [
    "pred = bayes.predict(x_test)\n",
    "cm = confusion_matrix(y_test, pred)\n",
    "print('Accuracy =', accuracy(cm))\n",
    "print('Precision =', precision(cm).mean())\n",
    "print('Recall = ', recall(cm).mean())\n",
    "print('F1 Score = ', f1(cm).mean())\n",
    "print('AUC Score = ', roc_auc(y_test, pred, True)[0])"
   ]
  },
  {
   "cell_type": "markdown",
   "metadata": {
    "colab_type": "text",
    "id": "bblVUSUMNZfx"
   },
   "source": [
    "#### 4.2.3 Gaussian Naive Bayes"
   ]
  },
  {
   "cell_type": "code",
   "execution_count": null,
   "metadata": {
    "colab": {
     "base_uri": "https://localhost:8080/",
     "height": 350
    },
    "colab_type": "code",
    "id": "mZ0wu3wNNogx",
    "outputId": "47356f1d-146b-4288-a40f-78c758ace0fb"
   },
   "outputs": [
    {
     "name": "stdout",
     "output_type": "stream",
     "text": [
      "Accuracy = 0.83844\n",
      "Precision = 0.8389758725843917\n",
      "Recall =  0.83844\n",
      "F1 Score =  0.8383761239167881\n"
     ]
    },
    {
     "data": {
      "image/png": "[encoded data removed]",
      "text/plain": [
       "<Figure size 432x288 with 1 Axes>"
      ]
     },
     "metadata": {
      "tags": []
     },
     "output_type": "display_data"
    },
    {
     "name": "stdout",
     "output_type": "stream",
     "text": [
      "AUC Score =  0.83844\n"
     ]
    }
   ],
   "source": [
    "with open('bert_sklearn.naive_bayes.model', 'rb') as f:\n",
    "    gaussian_bayes = pickle.load(f)\n",
    "\n",
    "pred = gaussian_bayes.predict(x_test)\n",
    "cm = confusion_matrix(y_test, pred)\n",
    "print('Accuracy =', accuracy(cm))\n",
    "print('Precision =', precision(cm).mean())\n",
    "print('Recall = ', recall(cm).mean())\n",
    "print('F1 Score = ', f1(cm).mean())\n",
    "print('AUC Score = ', roc_auc(y_test, pred, True)[0])"
   ]
  },
  {
   "cell_type": "markdown",
   "metadata": {
    "colab_type": "text",
    "id": "O0cexklH8s_j"
   },
   "source": [
    "#### 4.2.4 Decision Tree (Gini)"
   ]
  },
  {
   "cell_type": "code",
   "execution_count": null,
   "metadata": {
    "colab": {
     "base_uri": "https://localhost:8080/",
     "height": 350
    },
    "colab_type": "code",
    "id": "NrCwS4eF8wZZ",
    "outputId": "7c665b60-10a5-464c-8415-0758f69c6103"
   },
   "outputs": [
    {
     "name": "stdout",
     "output_type": "stream",
     "text": [
      "Accuracy = 0.7826\n",
      "Precision = 0.782600406944586\n",
      "Recall =  0.7826\n",
      "F1 Score =  0.7825999217359719\n"
     ]
    },
    {
     "data": {
      "image/png": "[encoded data removed]",
      "text/plain": [
       "<Figure size 432x288 with 1 Axes>"
      ]
     },
     "metadata": {
      "tags": []
     },
     "output_type": "display_data"
    },
    {
     "name": "stdout",
     "output_type": "stream",
     "text": [
      "AUC Score =  0.7826\n"
     ]
    }
   ],
   "source": [
    "pred = dt.predict(x_test)\n",
    "cm = confusion_matrix(y_test, pred)\n",
    "print('Accuracy =', accuracy(cm))\n",
    "print('Precision =', precision(cm).mean())\n",
    "print('Recall = ', recall(cm).mean())\n",
    "print('F1 Score = ', f1(cm).mean())\n",
    "print('AUC Score = ', roc_auc(y_test, pred, True)[0])"
   ]
  },
  {
   "cell_type": "markdown",
   "metadata": {
    "colab_type": "text",
    "id": "1WvmJqal8w8y"
   },
   "source": [
    "#### 4.2.5 Random Forest (Gini - 100 Estimators)"
   ]
  },
  {
   "cell_type": "code",
   "execution_count": null,
   "metadata": {
    "colab": {
     "base_uri": "https://localhost:8080/",
     "height": 350
    },
    "colab_type": "code",
    "id": "01fmADfK80x4",
    "outputId": "d30a09e5-542c-421f-ae66-189d2873aa92"
   },
   "outputs": [
    {
     "name": "stdout",
     "output_type": "stream",
     "text": [
      "Accuracy = 0.86172\n",
      "Precision = 0.8617219469322073\n",
      "Recall =  0.86172\n",
      "F1 Score =  0.8617198139301816\n"
     ]
    },
    {
     "data": {
      "image/png": "[encoded data removed]",
      "text/plain": [
       "<Figure size 432x288 with 1 Axes>"
      ]
     },
     "metadata": {
      "tags": []
     },
     "output_type": "display_data"
    },
    {
     "name": "stdout",
     "output_type": "stream",
     "text": [
      "AUC Score =  0.86172\n"
     ]
    }
   ],
   "source": [
    "pred = rf.predict(x_test)\n",
    "cm = confusion_matrix(y_test, pred)\n",
    "print('Accuracy =', accuracy(cm))\n",
    "print('Precision =', precision(cm).mean())\n",
    "print('Recall = ', recall(cm).mean())\n",
    "print('F1 Score = ', f1(cm).mean())\n",
    "print('AUC Score = ', roc_auc(y_test, pred, True)[0])"
   ]
  },
  {
   "cell_type": "markdown",
   "metadata": {
    "colab_type": "text",
    "id": "IC-Z1X6eQXDX"
   },
   "source": [
    "####4.2.6 RBF SVM"
   ]
  },
  {
   "cell_type": "code",
   "execution_count": null,
   "metadata": {
    "colab": {
     "base_uri": "https://localhost:8080/",
     "height": 350
    },
    "colab_type": "code",
    "id": "pm_3nn92Qfev",
    "outputId": "941d8d07-99ad-4239-d7b5-622ce49b7fdc"
   },
   "outputs": [
    {
     "name": "stdout",
     "output_type": "stream",
     "text": [
      "Accuracy = 0.88256\n",
      "Precision = 0.882572692843774\n",
      "Recall =  0.88256\n",
      "F1 Score =  0.8825590258975844\n"
     ]
    },
    {
     "data": {
      "image/png": "[encoded data removed]",
      "text/plain": [
       "<Figure size 432x288 with 1 Axes>"
      ]
     },
     "metadata": {
      "tags": []
     },
     "output_type": "display_data"
    },
    {
     "name": "stdout",
     "output_type": "stream",
     "text": [
      "AUC Score =  0.88256\n"
     ]
    }
   ],
   "source": [
    "pred = svc.predict(x_test)\n",
    "cm = confusion_matrix(y_test, pred)\n",
    "print('Accuracy =', accuracy(cm))\n",
    "print('Precision =', precision(cm).mean())\n",
    "print('Recall = ', recall(cm).mean())\n",
    "print('F1 Score = ', f1(cm).mean())\n",
    "print('AUC Score = ', roc_auc(y_test, pred, True)[0])"
   ]
  },
  {
   "cell_type": "markdown",
   "metadata": {
    "colab_type": "text",
    "id": "__1HzPEX5MwP"
   },
   "source": [
    "### 4.3 TF-IDF\n",
    "1. Linear SVC\n",
    "2. Polynomial (Degree=3) Naive Bayes\n",
    "3. Decision Tree\n",
    "4. Random Forest (100 Estimators)"
   ]
  },
  {
   "cell_type": "code",
   "execution_count": null,
   "metadata": {
    "colab": {},
    "colab_type": "code",
    "id": "CheG48R98UJ8"
   },
   "outputs": [],
   "source": [
    "x_test = np.load('x_test_tfidf.npy')\n",
    "y_test = np.load('y_test_tfidf.npy')"
   ]
  },
  {
   "cell_type": "markdown",
   "metadata": {
    "colab_type": "text",
    "id": "X2sE_FCE5b3W"
   },
   "source": [
    "#### 4.3.1 Linear SVC"
   ]
  },
  {
   "cell_type": "code",
   "execution_count": 27,
   "metadata": {
    "colab": {
     "base_uri": "https://localhost:8080/",
     "height": 350
    },
    "colab_type": "code",
    "id": "mneFURa67u27",
    "outputId": "b044a0fe-a850-42df-9666-8d6efb47c656"
   },
   "outputs": [
    {
     "name": "stdout",
     "output_type": "stream",
     "text": [
      "Accuracy = 0.88348\n",
      "Precision = 0.8836042877892437\n",
      "Recall =  0.88348\n",
      "F1 Score =  0.8834705611154504\n"
     ]
    },
    {
     "data": {
      "image/png": "[encoded data removed]",
      "text/plain": [
       "<Figure size 432x288 with 1 Axes>"
      ]
     },
     "metadata": {
      "tags": []
     },
     "output_type": "display_data"
    },
    {
     "name": "stdout",
     "output_type": "stream",
     "text": [
      "AUC Score =  0.88348\n"
     ]
    }
   ],
   "source": [
    "with open('tfidf_svc_linear.model', 'rb') as f:\n",
    "    svc_linear = pickle.load(f)\n",
    "pred = svc_linear.predict(x_test)\n",
    "cm = confusion_matrix(y_test, pred)\n",
    "print('Accuracy =', accuracy(cm))\n",
    "print('Precision =', precision(cm).mean())\n",
    "print('Recall = ', recall(cm).mean())\n",
    "print('F1 Score = ', f1(cm).mean())\n",
    "print('AUC Score = ', roc_auc(y_test, pred, True)[0])"
   ]
  },
  {
   "cell_type": "markdown",
   "metadata": {
    "colab_type": "text",
    "id": "DycH810L8yPb"
   },
   "source": [
    "#### 4.3.2 Polynomial (Degree=3) Naive Bayes"
   ]
  },
  {
   "cell_type": "code",
   "execution_count": 26,
   "metadata": {
    "colab": {
     "base_uri": "https://localhost:8080/",
     "height": 350
    },
    "colab_type": "code",
    "id": "YNWXyUKO9Awx",
    "outputId": "d5d17423-1966-469d-fc02-e7375b032e98"
   },
   "outputs": [
    {
     "name": "stdout",
     "output_type": "stream",
     "text": [
      "Accuracy = 0.85868\n",
      "Precision = 0.8595847243718886\n",
      "Recall =  0.85868\n",
      "F1 Score =  0.8585910528672362\n"
     ]
    },
    {
     "data": {
      "image/png": "[encoded data removed]",
      "text/plain": [
       "<Figure size 432x288 with 1 Axes>"
      ]
     },
     "metadata": {
      "tags": []
     },
     "output_type": "display_data"
    },
    {
     "name": "stdout",
     "output_type": "stream",
     "text": [
      "AUC Score =  0.8586800000000001\n"
     ]
    }
   ],
   "source": [
    "with open('tfidf_pnb.model', 'rb') as f:\n",
    "    pnb = pickle.load(f)\n",
    "pred = pnb.predict(x_test)\n",
    "cm = confusion_matrix(y_test, pred)\n",
    "print('Accuracy =', accuracy(cm))\n",
    "print('Precision =', precision(cm).mean())\n",
    "print('Recall = ', recall(cm).mean())\n",
    "print('F1 Score = ', f1(cm).mean())\n",
    "print('AUC Score = ', roc_auc(y_test, pred, True)[0])"
   ]
  },
  {
   "cell_type": "markdown",
   "metadata": {
    "colab_type": "text",
    "id": "YYS8SAvK9J2Q"
   },
   "source": [
    "#### 4.3.3 Decision Tree (gini)"
   ]
  },
  {
   "cell_type": "code",
   "execution_count": 22,
   "metadata": {
    "colab": {
     "base_uri": "https://localhost:8080/",
     "height": 350
    },
    "colab_type": "code",
    "id": "60ifkxg29PoC",
    "outputId": "439af45b-2025-4981-ec1c-f91b8caa70ee"
   },
   "outputs": [
    {
     "name": "stdout",
     "output_type": "stream",
     "text": [
      "Accuracy = 0.7142\n",
      "Precision = 0.7142108592909853\n",
      "Recall =  0.7142\n",
      "F1 Score =  0.7141963778392142\n"
     ]
    },
    {
     "data": {
      "image/png": "[encoded data removed]",
      "text/plain": [
       "<Figure size 432x288 with 1 Axes>"
      ]
     },
     "metadata": {
      "tags": []
     },
     "output_type": "display_data"
    },
    {
     "name": "stdout",
     "output_type": "stream",
     "text": [
      "AUC Score =  0.7142\n"
     ]
    }
   ],
   "source": [
    "with open('tfidf_dt.model', 'rb') as f:\n",
    "    dt = pickle.load(f)\n",
    "pred = dt.predict(x_test)\n",
    "cm = confusion_matrix(y_test, pred)\n",
    "print('Accuracy =', accuracy(cm))\n",
    "print('Precision =', precision(cm).mean())\n",
    "print('Recall = ', recall(cm).mean())\n",
    "print('F1 Score = ', f1(cm).mean())\n",
    "print('AUC Score = ', roc_auc(y_test, pred, True)[0])"
   ]
  },
  {
   "cell_type": "markdown",
   "metadata": {
    "colab_type": "text",
    "id": "PSzn5lTT9Ud1"
   },
   "source": [
    "#### 4.3.4 Random Forest (100 Estimators)"
   ]
  },
  {
   "cell_type": "code",
   "execution_count": 21,
   "metadata": {
    "colab": {
     "base_uri": "https://localhost:8080/",
     "height": 350
    },
    "colab_type": "code",
    "id": "AIitQIkY9ceH",
    "outputId": "cb80e5c5-109b-4666-efce-e1446d3b97a6"
   },
   "outputs": [
    {
     "name": "stdout",
     "output_type": "stream",
     "text": [
      "Accuracy = 0.85384\n",
      "Precision = 0.8540958464299427\n",
      "Recall =  0.85384\n",
      "F1 Score =  0.8538135938231812\n"
     ]
    },
    {
     "data": {
      "image/png": "[encoded data removed]",
      "text/plain": [
       "<Figure size 432x288 with 1 Axes>"
      ]
     },
     "metadata": {
      "tags": []
     },
     "output_type": "display_data"
    },
    {
     "name": "stdout",
     "output_type": "stream",
     "text": [
      "AUC Score =  0.85384\n"
     ]
    }
   ],
   "source": [
    "with open('tfidf_rf100.model', 'rb') as f:\n",
    "    rf = pickle.load(f)\n",
    "pred = rf.predict(x_test)\n",
    "cm = confusion_matrix(y_test, pred)\n",
    "print('Accuracy =', accuracy(cm))\n",
    "print('Precision =', precision(cm).mean())\n",
    "print('Recall = ', recall(cm).mean())\n",
    "print('F1 Score = ', f1(cm).mean())\n",
    "print('AUC Score = ', roc_auc(y_test, pred, True)[0])"
   ]
  },
  {
   "cell_type": "markdown",
   "metadata": {
    "colab_type": "text",
    "id": "ARcaUqWUPhzN"
   },
   "source": [
    "## 5 INTERACTING WITH GOOGLE DRIVE"
   ]
  },
  {
   "cell_type": "code",
   "execution_count": 42,
   "metadata": {
    "colab": {
     "base_uri": "https://localhost:8080/",
     "height": 85
    },
    "colab_type": "code",
    "id": "NgP1qRvD67kx",
    "outputId": "3673332a-27e3-4232-adf3-1c5c73516c3a"
   },
   "outputs": [
    {
     "name": "stdout",
     "output_type": "stream",
     "text": [
      "Cloning into '/tmp/colab_util_repo'...\n",
      "remote: Enumerating objects: 40, done.\u001b[K\n",
      "remote: Total 40 (delta 0), reused 0 (delta 0), pack-reused 40\u001b[K\n",
      "Unpacking objects: 100% (40/40), done.\n"
     ]
    }
   ],
   "source": [
    "!git clone https://gist.github.com/dc7e60aa487430ea704a8cb3f2c5d6a6.git /tmp/colab_util_repo\n",
    "!mv /tmp/colab_util_repo/colab_util.py colab_util.py \n",
    "!rm -r /tmp/colab_util_repo"
   ]
  },
  {
   "cell_type": "code",
   "execution_count": null,
   "metadata": {
    "colab": {},
    "colab_type": "code",
    "id": "FtV-35hJPuoF"
   },
   "outputs": [],
   "source": [
    "from colab_util import *\n",
    "drive_handler = GoogleDriveHandler()"
   ]
  },
  {
   "cell_type": "code",
   "execution_count": 25,
   "metadata": {
    "colab": {
     "base_uri": "https://localhost:8080/",
     "height": 34
    },
    "colab_type": "code",
    "id": "EWwwsiEqP8rA",
    "outputId": "a713e647-b638-4b22-8a35-e76d18c01e07"
   },
   "outputs": [
    {
     "data": {
      "text/plain": [
       "'1fuYSW4_-tgLm6i7QHHQB_1v9MPO33F8Q'"
      ]
     },
     "execution_count": 25,
     "metadata": {
      "tags": []
     },
     "output_type": "execute_result"
    }
   ],
   "source": [
    "ID = drive_handler.path_to_id('IUST-PR/HW1')\n",
    "# drive_handler.list_folder(ID, max_depth=1)\n",
    "drive_handler.upload('x_test_tfidf.npy', parent_path='IUST-PR/HW1')\n",
    "drive_handler.upload('y_test_tfidf.npy', parent_path='IUST-PR/HW1')\n",
    "# drive_handler.upload('tfidf_rf100.model', parent_path='IUST-PR/HW1')\n",
    "# drive_handler.upload('sklearn.ensemble.forest.model', parent_path='IUST-PR/HW1')\n",
    "# drive_handler.upload('tfidf_pnb.model', parent_path='IUST-PR/HW1')\n",
    "# drive_handler.upload('tfidf_dt.model', parent_path='IUST-PR/HW1')\n",
    "# drive_handler.upload('tfidf_svc_linear.model', parent_path='IUST-PR/HW1')\n",
    "# drive_handler.upload('svc_rbf_sklearn.svm.classes.model', parent_path='IUST-PR/HW1')\n",
    "# drive_handler.upload('tfidf_vec_fitted.model', parent_path='IUST-PR/HW1')"
   ]
  },
  {
   "cell_type": "code",
   "execution_count": null,
   "metadata": {
    "colab": {},
    "colab_type": "code",
    "id": "K7UGVxTOVja-"
   },
   "outputs": [],
   "source": [
    "from google.colab import drive\n",
    "drive.mount('/content/drive')"
   ]
  }
 ],
 "metadata": {
  "accelerator": "GPU",
  "colab": {
   "collapsed_sections": [],
   "machine_shape": "hm",
   "name": "PR-HW1",
   "provenance": [],
   "toc_visible": true
  },
  "kernelspec": {
   "display_name": "Python 3",
   "language": "python",
   "name": "python3"
  },
  "language_info": {
   "codemirror_mode": {
    "name": "ipython",
    "version": 3
   },
   "file_extension": ".py",
   "mimetype": "text/x-python",
   "name": "python",
   "nbconvert_exporter": "python",
   "pygments_lexer": "ipython3",
   "version": "3.6.6"
  }
 },
 "nbformat": 4,
 "nbformat_minor": 4
}
